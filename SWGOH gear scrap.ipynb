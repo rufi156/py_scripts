{
 "cells": [
  {
   "cell_type": "markdown",
   "metadata": {},
   "source": [
    "Gear scrapping calculations for SWGOH"
   ]
  },
  {
   "cell_type": "code",
   "execution_count": 1,
   "metadata": {},
   "outputs": [],
   "source": [
    "import pandas as pd\n",
    "import numpy as np\n",
    "import seaborn as sns"
   ]
  },
  {
   "cell_type": "code",
   "execution_count": 74,
   "metadata": {},
   "outputs": [
    {
     "name": "stdout",
     "output_type": "stream",
     "text": [
      "Overwriting bronz.txt\n"
     ]
    }
   ],
   "source": [
    "%%writefile bronz.txt\n",
    "Mk 4 BioTech Implant Prototype\n",
    "Dark Side Battles: 2-E (Normal)\n",
    "Dark Side Battles: 4-E (Normal)\n",
    "Dark Side Battles: 8-H (Normal)\n",
    "Dark Side Battles: 9-C (Normal)\n",
    "Light Side Battles: 4-H (Normal)\n",
    "Light Side Battles: 6-B (Normal)\n",
    "Light Side Battles: 8-D (Normal)\n",
    "Light Side Battles: 9-D (Normal)   \n",
    "Mk 4 BlasTech Weapon Mod Prototype\n",
    "Dark Side Battles: 2-H (Normal)\n",
    "Dark Side Battles: 5-J (Normal)\n",
    "Dark Side Battles: 7-G (Normal)\n",
    "Dark Side Battles: 9-A (Normal)\n",
    "Dark Side Battles: 9-B (Normal)\n",
    "Light Side Battles: 4-E (Normal)\n",
    "Mk 4 Loronar Power Cell Prototype\n",
    "Dark Side Battles: 2-C (Normal)\n",
    "Dark Side Battles: 5-F (Normal)\n",
    "Dark Side Battles: 6-J (Normal)\n",
    "Dark Side Battles: 8-B (Normal)\n",
    "Dark Side Battles: 9-D (Normal)\n",
    "Fleet Side Battles: 2-A (Normal)\n",
    "Mk 5 Fabritech Data Pad\n",
    "Light Side Battles: 5-K (Normal)\n",
    "Light Side Battles: 6-C (Normal)\n",
    "Light Side Battles: 7-B (Normal)\n",
    "Light Side Battles: 8-A (Normal)\n",
    "Light Side Battles: 9-B (Normal)\n",
    "Fleet Side Battles: 1-D (Normal)"
   ]
  },
  {
   "cell_type": "code",
   "execution_count": 169,
   "metadata": {},
   "outputs": [],
   "source": [
    "with open('bronz.txt', 'r+') as f:\n",
    "    with open('bronz_new.csv', 'w+') as outf:\n",
    "        f.seek(0)\n",
    "        outf.truncate()\n",
    "        #1st row of csv\n",
    "        outf.write('gear_name;DS;LS;FL\\n')\n",
    "        \n",
    "        #data for 'item' column\n",
    "        items = []\n",
    "        for line in f.readlines():\n",
    "            if line.startswith('Mk'):\n",
    "                items.append(line[:-1])\n",
    "        \n",
    "        #list of separate data for each item\n",
    "        f.seek(0)\n",
    "        by_items = f.read().split('Mk')[1:]\n",
    "        all_darks_per_item = []\n",
    "        all_lights_per_item = []\n",
    "        all_fleets_per_item = []\n",
    "        for item in by_items:\n",
    "            item = item.strip().split('\\n')[1:]         \n",
    "            dark = []\n",
    "            light = []\n",
    "            fleet = []\n",
    "            \n",
    "            #collect darks per item\n",
    "            for line in item:  \n",
    "                if 'Dark' in line: \n",
    "                    dark.append(line.split()[3])\n",
    "            all_darks_per_item.append(dark)\n",
    "            \n",
    "            #collect lights per item\n",
    "            for line in item:  \n",
    "                if 'Light' in line: \n",
    "                    light.append(line.split()[3])\n",
    "            all_lights_per_item.append(light)\n",
    "            \n",
    "            #collect fleets per item\n",
    "            for line in item:  \n",
    "                if 'Fleet' in line: \n",
    "                    fleet.append(line.split()[3])\n",
    "            all_fleets_per_item.append(fleet)\n",
    "        \n",
    "        #write to csv: name_of_item;list_of_darks;list_of_lights;list_of_leets\n",
    "        for i in range(0,len(items)):\n",
    "            outf.write(f'{items[i]};{all_darks_per_item[i]};{all_lights_per_item[i]};{all_fleets_per_item[i]}\\n')\n",
    "        "
   ]
  },
  {
   "cell_type": "code",
   "execution_count": 170,
   "metadata": {},
   "outputs": [
    {
     "name": "stdout",
     "output_type": "stream",
     "text": [
      "gear_name;DS;LS;FL\n",
      "Mk 4 BioTech Implant Prototype;['2-E', '4-E', '8-H', '9-C'];['4-H', '6-B', '8-D', '9-D'];[]\n",
      "Mk 4 BlasTech Weapon Mod Prototype;['2-H', '5-J', '7-G', '9-A', '9-B'];['4-E'];[]\n",
      "Mk 4 Loronar Power Cell Prototype;['2-C', '5-F', '6-J', '8-B', '9-D'];[];['2-A']\n",
      "Mk 5 Fabritech Data Pad;[];['5-K', '6-C', '7-B', '8-A', '9-B'];['1-D']\n",
      "\n"
     ]
    }
   ],
   "source": [
    "with open('bronz_new.csv', 'r') as f:\n",
    "    print(f.read())"
   ]
  },
  {
   "cell_type": "code",
   "execution_count": 186,
   "metadata": {},
   "outputs": [],
   "source": [
    "bronz = pd.read_csv('bronz_new.csv', sep=';')"
   ]
  },
  {
   "cell_type": "code",
   "execution_count": 172,
   "metadata": {},
   "outputs": [],
   "source": [
    "def to_1D(series):\n",
    " return pd.Series([x for _list in series for x in _list])"
   ]
  },
  {
   "cell_type": "code",
   "execution_count": 187,
   "metadata": {},
   "outputs": [],
   "source": [
    "bronz['DS'] = bronz['DS'].apply(eval)\n",
    "bronz['LS'] = bronz['LS'].apply(eval)\n",
    "bronz['FL'] = bronz['FL'].apply(eval)"
   ]
  },
  {
   "cell_type": "code",
   "execution_count": 188,
   "metadata": {},
   "outputs": [
    {
     "data": {
      "text/html": [
       "<div>\n",
       "<style scoped>\n",
       "    .dataframe tbody tr th:only-of-type {\n",
       "        vertical-align: middle;\n",
       "    }\n",
       "\n",
       "    .dataframe tbody tr th {\n",
       "        vertical-align: top;\n",
       "    }\n",
       "\n",
       "    .dataframe thead th {\n",
       "        text-align: right;\n",
       "    }\n",
       "</style>\n",
       "<table border=\"1\" class=\"dataframe\">\n",
       "  <thead>\n",
       "    <tr style=\"text-align: right;\">\n",
       "      <th></th>\n",
       "      <th>gear_name</th>\n",
       "      <th>DS</th>\n",
       "      <th>LS</th>\n",
       "      <th>FL</th>\n",
       "    </tr>\n",
       "  </thead>\n",
       "  <tbody>\n",
       "    <tr>\n",
       "      <th>0</th>\n",
       "      <td>Mk 4 BioTech Implant Prototype</td>\n",
       "      <td>[2-E, 4-E, 8-H, 9-C]</td>\n",
       "      <td>[4-H, 6-B, 8-D, 9-D]</td>\n",
       "      <td>[]</td>\n",
       "    </tr>\n",
       "    <tr>\n",
       "      <th>1</th>\n",
       "      <td>Mk 4 BlasTech Weapon Mod Prototype</td>\n",
       "      <td>[2-H, 5-J, 7-G, 9-A, 9-B]</td>\n",
       "      <td>[4-E]</td>\n",
       "      <td>[]</td>\n",
       "    </tr>\n",
       "    <tr>\n",
       "      <th>2</th>\n",
       "      <td>Mk 4 Loronar Power Cell Prototype</td>\n",
       "      <td>[2-C, 5-F, 6-J, 8-B, 9-D]</td>\n",
       "      <td>[]</td>\n",
       "      <td>[2-A]</td>\n",
       "    </tr>\n",
       "    <tr>\n",
       "      <th>3</th>\n",
       "      <td>Mk 5 Fabritech Data Pad</td>\n",
       "      <td>[]</td>\n",
       "      <td>[5-K, 6-C, 7-B, 8-A, 9-B]</td>\n",
       "      <td>[1-D]</td>\n",
       "    </tr>\n",
       "  </tbody>\n",
       "</table>\n",
       "</div>"
      ],
      "text/plain": [
       "                            gear_name                         DS  \\\n",
       "0      Mk 4 BioTech Implant Prototype       [2-E, 4-E, 8-H, 9-C]   \n",
       "1  Mk 4 BlasTech Weapon Mod Prototype  [2-H, 5-J, 7-G, 9-A, 9-B]   \n",
       "2   Mk 4 Loronar Power Cell Prototype  [2-C, 5-F, 6-J, 8-B, 9-D]   \n",
       "3             Mk 5 Fabritech Data Pad                         []   \n",
       "\n",
       "                          LS     FL  \n",
       "0       [4-H, 6-B, 8-D, 9-D]     []  \n",
       "1                      [4-E]     []  \n",
       "2                         []  [2-A]  \n",
       "3  [5-K, 6-C, 7-B, 8-A, 9-B]  [1-D]  "
      ]
     },
     "execution_count": 188,
     "metadata": {},
     "output_type": "execute_result"
    }
   ],
   "source": [
    "bronz"
   ]
  },
  {
   "cell_type": "code",
   "execution_count": 189,
   "metadata": {},
   "outputs": [],
   "source": [
    "bronz_explode = bronz.explode('DS').explode('LS').explode('FL')"
   ]
  },
  {
   "cell_type": "code",
   "execution_count": 195,
   "metadata": {},
   "outputs": [
    {
     "data": {
      "text/html": [
       "<div>\n",
       "<style scoped>\n",
       "    .dataframe tbody tr th:only-of-type {\n",
       "        vertical-align: middle;\n",
       "    }\n",
       "\n",
       "    .dataframe tbody tr th {\n",
       "        vertical-align: top;\n",
       "    }\n",
       "\n",
       "    .dataframe thead th {\n",
       "        text-align: right;\n",
       "    }\n",
       "</style>\n",
       "<table border=\"1\" class=\"dataframe\">\n",
       "  <thead>\n",
       "    <tr style=\"text-align: right;\">\n",
       "      <th></th>\n",
       "      <th>gear_name</th>\n",
       "      <th>DS</th>\n",
       "      <th>LS</th>\n",
       "      <th>FL</th>\n",
       "    </tr>\n",
       "  </thead>\n",
       "  <tbody>\n",
       "    <tr>\n",
       "      <th>0</th>\n",
       "      <td>Mk 4 BioTech Implant Prototype</td>\n",
       "      <td>2-E</td>\n",
       "      <td>4-H</td>\n",
       "      <td>NaN</td>\n",
       "    </tr>\n",
       "    <tr>\n",
       "      <th>0</th>\n",
       "      <td>Mk 4 BioTech Implant Prototype</td>\n",
       "      <td>2-E</td>\n",
       "      <td>6-B</td>\n",
       "      <td>NaN</td>\n",
       "    </tr>\n",
       "    <tr>\n",
       "      <th>0</th>\n",
       "      <td>Mk 4 BioTech Implant Prototype</td>\n",
       "      <td>2-E</td>\n",
       "      <td>8-D</td>\n",
       "      <td>NaN</td>\n",
       "    </tr>\n",
       "    <tr>\n",
       "      <th>0</th>\n",
       "      <td>Mk 4 BioTech Implant Prototype</td>\n",
       "      <td>2-E</td>\n",
       "      <td>9-D</td>\n",
       "      <td>NaN</td>\n",
       "    </tr>\n",
       "    <tr>\n",
       "      <th>0</th>\n",
       "      <td>Mk 4 BioTech Implant Prototype</td>\n",
       "      <td>4-E</td>\n",
       "      <td>4-H</td>\n",
       "      <td>NaN</td>\n",
       "    </tr>\n",
       "  </tbody>\n",
       "</table>\n",
       "</div>"
      ],
      "text/plain": [
       "                        gear_name   DS   LS   FL\n",
       "0  Mk 4 BioTech Implant Prototype  2-E  4-H  NaN\n",
       "0  Mk 4 BioTech Implant Prototype  2-E  6-B  NaN\n",
       "0  Mk 4 BioTech Implant Prototype  2-E  8-D  NaN\n",
       "0  Mk 4 BioTech Implant Prototype  2-E  9-D  NaN\n",
       "0  Mk 4 BioTech Implant Prototype  4-E  4-H  NaN"
      ]
     },
     "execution_count": 195,
     "metadata": {},
     "output_type": "execute_result"
    }
   ],
   "source": [
    "bronz_explode.head()"
   ]
  },
  {
   "cell_type": "code",
   "execution_count": 196,
   "metadata": {},
   "outputs": [],
   "source": [
    "bronz['all'] = bronz['DS']+bronz['LS']+bronz['FL']"
   ]
  },
  {
   "cell_type": "code",
   "execution_count": 198,
   "metadata": {},
   "outputs": [
    {
     "data": {
      "text/plain": [
       "9-D    2\n",
       "9-B    2\n",
       "4-E    2\n",
       "8-B    1\n",
       "8-H    1\n",
       "4-H    1\n",
       "8-A    1\n",
       "9-A    1\n",
       "6-C    1\n",
       "7-G    1\n",
       "2-A    1\n",
       "5-F    1\n",
       "1-D    1\n",
       "7-B    1\n",
       "8-D    1\n",
       "2-C    1\n",
       "9-C    1\n",
       "6-B    1\n",
       "5-J    1\n",
       "6-J    1\n",
       "5-K    1\n",
       "2-E    1\n",
       "2-H    1\n",
       "dtype: int64"
      ]
     },
     "execution_count": 198,
     "metadata": {},
     "output_type": "execute_result"
    }
   ],
   "source": [
    "to_1D(bronz['all']).value_counts()"
   ]
  },
  {
   "cell_type": "code",
   "execution_count": 202,
   "metadata": {},
   "outputs": [
    {
     "name": "stdout",
     "output_type": "stream",
     "text": [
      "Overwriting chrom.txt\n"
     ]
    }
   ],
   "source": [
    "%%writefile chrom.txt\n",
    "Mk 1 Czerka Stun Cuffs\n",
    "Dark Side Battles: 3-A (Normal)\n",
    "Dark Side Battles: 5-D (Normal)\n",
    "Dark Side Battles: 7-H (Normal)\n",
    "Light Side Battles: 2-G (Normal)\n",
    "Mk 2 Sienar Holo Projector Prototype Salvage\n",
    "Dark Side Battles: 3-H (Normal)\n",
    "Dark Side Battles: 7-A (Normal)\n",
    "Dark Side Battles: 9-D (Normal)\n",
    "Light Side Battles: 4-A (Normal)\n",
    "Light Side Battles: 6-E (Normal)\n",
    "Light Side Battles: 9-F (Normal)\n",
    "Fleet Side Battles: 1-C (Normal)\n",
    "Fleet Side Battles: 2-D (Normal)\n",
    "Fleet Side Battles: 4-E (Normal)\n",
    "Fleet Side Battles: 4-F (Normal)\n",
    "Mk 3 BlasTech Weapon Mod\n",
    "Light Side Battles: 3-C (Normal)\n",
    "Light Side Battles: 5-G (Normal)\n",
    "Light Side Battles: 7-H (Normal)\n",
    "Light Side Battles: 8-F (Normal)"
   ]
  },
  {
   "cell_type": "code",
   "execution_count": 203,
   "metadata": {},
   "outputs": [],
   "source": [
    "with open('chrom.txt', 'r+') as f:\n",
    "    with open('chrom_new.csv', 'w+') as outf:\n",
    "        f.seek(0)\n",
    "        outf.truncate()\n",
    "        #1st row of csv\n",
    "        outf.write('gear_name;DS;LS;FL\\n')\n",
    "        \n",
    "        #data for 'item' column\n",
    "        items = []\n",
    "        for line in f.readlines():\n",
    "            if line.startswith('Mk'):\n",
    "                items.append(line[:-1])\n",
    "        \n",
    "        #list of separate data for each item\n",
    "        f.seek(0)\n",
    "        by_items = f.read().split('Mk')[1:]\n",
    "        all_darks_per_item = []\n",
    "        all_lights_per_item = []\n",
    "        all_fleets_per_item = []\n",
    "        for item in by_items:\n",
    "            item = item.strip().split('\\n')[1:]         \n",
    "            dark = []\n",
    "            light = []\n",
    "            fleet = []\n",
    "            \n",
    "            #collect darks per item\n",
    "            for line in item:  \n",
    "                if 'Dark' in line: \n",
    "                    dark.append(line.split()[3])\n",
    "            all_darks_per_item.append(dark)\n",
    "            \n",
    "            #collect lights per item\n",
    "            for line in item:  \n",
    "                if 'Light' in line: \n",
    "                    light.append(line.split()[3])\n",
    "            all_lights_per_item.append(light)\n",
    "            \n",
    "            #collect fleets per item\n",
    "            for line in item:  \n",
    "                if 'Fleet' in line: \n",
    "                    fleet.append(line.split()[3])\n",
    "            all_fleets_per_item.append(fleet)\n",
    "        \n",
    "        #write to csv: name_of_item;list_of_darks;list_of_lights;list_of_leets\n",
    "        for i in range(0,len(items)):\n",
    "            outf.write(f'{items[i]};{all_darks_per_item[i]};{all_lights_per_item[i]};{all_fleets_per_item[i]}\\n')"
   ]
  },
  {
   "cell_type": "code",
   "execution_count": 204,
   "metadata": {},
   "outputs": [
    {
     "name": "stdout",
     "output_type": "stream",
     "text": [
      "gear_name;DS;LS;FL\n",
      "Mk 1 Czerka Stun Cuffs;['3-A', '5-D', '7-H'];['2-G'];[]\n",
      "Mk 2 Sienar Holo Projector Prototype Salvage;['3-H', '7-A', '9-D'];['4-A', '6-E', '9-F'];['1-C', '2-D', '4-E', '4-F']\n",
      "Mk 3 BlasTech Weapon Mod;[];['3-C', '5-G', '7-H', '8-F'];[]\n",
      "\n"
     ]
    }
   ],
   "source": [
    "with open('chrom_new.csv', 'r') as f:\n",
    "    print(f.read())"
   ]
  },
  {
   "cell_type": "code",
   "execution_count": 205,
   "metadata": {},
   "outputs": [],
   "source": [
    "chrom = pd.read_csv('chrom_new.csv', sep=';')"
   ]
  },
  {
   "cell_type": "code",
   "execution_count": 207,
   "metadata": {},
   "outputs": [],
   "source": [
    "chrom['DS'] = chrom['DS'].apply(eval)\n",
    "chrom['LS'] = chrom['LS'].apply(eval)\n",
    "chrom['FL'] = chrom['FL'].apply(eval)"
   ]
  },
  {
   "cell_type": "code",
   "execution_count": 208,
   "metadata": {},
   "outputs": [
    {
     "data": {
      "text/html": [
       "<div>\n",
       "<style scoped>\n",
       "    .dataframe tbody tr th:only-of-type {\n",
       "        vertical-align: middle;\n",
       "    }\n",
       "\n",
       "    .dataframe tbody tr th {\n",
       "        vertical-align: top;\n",
       "    }\n",
       "\n",
       "    .dataframe thead th {\n",
       "        text-align: right;\n",
       "    }\n",
       "</style>\n",
       "<table border=\"1\" class=\"dataframe\">\n",
       "  <thead>\n",
       "    <tr style=\"text-align: right;\">\n",
       "      <th></th>\n",
       "      <th>gear_name</th>\n",
       "      <th>DS</th>\n",
       "      <th>LS</th>\n",
       "      <th>FL</th>\n",
       "    </tr>\n",
       "  </thead>\n",
       "  <tbody>\n",
       "    <tr>\n",
       "      <th>0</th>\n",
       "      <td>Mk 1 Czerka Stun Cuffs</td>\n",
       "      <td>[3-A, 5-D, 7-H]</td>\n",
       "      <td>[2-G]</td>\n",
       "      <td>[]</td>\n",
       "    </tr>\n",
       "    <tr>\n",
       "      <th>1</th>\n",
       "      <td>Mk 2 Sienar Holo Projector Prototype Salvage</td>\n",
       "      <td>[3-H, 7-A, 9-D]</td>\n",
       "      <td>[4-A, 6-E, 9-F]</td>\n",
       "      <td>[1-C, 2-D, 4-E, 4-F]</td>\n",
       "    </tr>\n",
       "    <tr>\n",
       "      <th>2</th>\n",
       "      <td>Mk 3 BlasTech Weapon Mod</td>\n",
       "      <td>[]</td>\n",
       "      <td>[3-C, 5-G, 7-H, 8-F]</td>\n",
       "      <td>[]</td>\n",
       "    </tr>\n",
       "  </tbody>\n",
       "</table>\n",
       "</div>"
      ],
      "text/plain": [
       "                                      gear_name               DS  \\\n",
       "0                        Mk 1 Czerka Stun Cuffs  [3-A, 5-D, 7-H]   \n",
       "1  Mk 2 Sienar Holo Projector Prototype Salvage  [3-H, 7-A, 9-D]   \n",
       "2                      Mk 3 BlasTech Weapon Mod               []   \n",
       "\n",
       "                     LS                    FL  \n",
       "0                 [2-G]                    []  \n",
       "1       [4-A, 6-E, 9-F]  [1-C, 2-D, 4-E, 4-F]  \n",
       "2  [3-C, 5-G, 7-H, 8-F]                    []  "
      ]
     },
     "execution_count": 208,
     "metadata": {},
     "output_type": "execute_result"
    }
   ],
   "source": [
    "chrom"
   ]
  },
  {
   "cell_type": "code",
   "execution_count": 209,
   "metadata": {},
   "outputs": [],
   "source": [
    "chrom_explode = chrom.explode('DS').explode('LS').explode('FL')"
   ]
  },
  {
   "cell_type": "code",
   "execution_count": 210,
   "metadata": {},
   "outputs": [],
   "source": [
    "chrom['all'] = chrom['DS']+chrom['LS']+chrom['FL']"
   ]
  },
  {
   "cell_type": "code",
   "execution_count": 212,
   "metadata": {},
   "outputs": [
    {
     "data": {
      "text/plain": [
       "7-H    2\n",
       "2-G    1\n",
       "8-F    1\n",
       "9-F    1\n",
       "5-G    1\n",
       "4-F    1\n",
       "4-A    1\n",
       "6-E    1\n",
       "4-E    1\n",
       "5-D    1\n",
       "9-D    1\n",
       "7-A    1\n",
       "3-C    1\n",
       "2-D    1\n",
       "3-H    1\n",
       "3-A    1\n",
       "1-C    1\n",
       "dtype: int64"
      ]
     },
     "execution_count": 212,
     "metadata": {},
     "output_type": "execute_result"
    }
   ],
   "source": [
    "to_1D(chrom['all']).value_counts()"
   ]
  },
  {
   "cell_type": "code",
   "execution_count": 214,
   "metadata": {},
   "outputs": [],
   "source": [
    "bronz_chrom = pd.concat([bronz, chrom])"
   ]
  },
  {
   "cell_type": "code",
   "execution_count": 215,
   "metadata": {},
   "outputs": [
    {
     "data": {
      "text/html": [
       "<div>\n",
       "<style scoped>\n",
       "    .dataframe tbody tr th:only-of-type {\n",
       "        vertical-align: middle;\n",
       "    }\n",
       "\n",
       "    .dataframe tbody tr th {\n",
       "        vertical-align: top;\n",
       "    }\n",
       "\n",
       "    .dataframe thead th {\n",
       "        text-align: right;\n",
       "    }\n",
       "</style>\n",
       "<table border=\"1\" class=\"dataframe\">\n",
       "  <thead>\n",
       "    <tr style=\"text-align: right;\">\n",
       "      <th></th>\n",
       "      <th>gear_name</th>\n",
       "      <th>DS</th>\n",
       "      <th>LS</th>\n",
       "      <th>FL</th>\n",
       "      <th>all</th>\n",
       "    </tr>\n",
       "  </thead>\n",
       "  <tbody>\n",
       "    <tr>\n",
       "      <th>0</th>\n",
       "      <td>Mk 4 BioTech Implant Prototype</td>\n",
       "      <td>[2-E, 4-E, 8-H, 9-C]</td>\n",
       "      <td>[4-H, 6-B, 8-D, 9-D]</td>\n",
       "      <td>[]</td>\n",
       "      <td>[2-E, 4-E, 8-H, 9-C, 4-H, 6-B, 8-D, 9-D]</td>\n",
       "    </tr>\n",
       "    <tr>\n",
       "      <th>1</th>\n",
       "      <td>Mk 4 BlasTech Weapon Mod Prototype</td>\n",
       "      <td>[2-H, 5-J, 7-G, 9-A, 9-B]</td>\n",
       "      <td>[4-E]</td>\n",
       "      <td>[]</td>\n",
       "      <td>[2-H, 5-J, 7-G, 9-A, 9-B, 4-E]</td>\n",
       "    </tr>\n",
       "    <tr>\n",
       "      <th>2</th>\n",
       "      <td>Mk 4 Loronar Power Cell Prototype</td>\n",
       "      <td>[2-C, 5-F, 6-J, 8-B, 9-D]</td>\n",
       "      <td>[]</td>\n",
       "      <td>[2-A]</td>\n",
       "      <td>[2-C, 5-F, 6-J, 8-B, 9-D, 2-A]</td>\n",
       "    </tr>\n",
       "    <tr>\n",
       "      <th>3</th>\n",
       "      <td>Mk 5 Fabritech Data Pad</td>\n",
       "      <td>[]</td>\n",
       "      <td>[5-K, 6-C, 7-B, 8-A, 9-B]</td>\n",
       "      <td>[1-D]</td>\n",
       "      <td>[5-K, 6-C, 7-B, 8-A, 9-B, 1-D]</td>\n",
       "    </tr>\n",
       "    <tr>\n",
       "      <th>0</th>\n",
       "      <td>Mk 1 Czerka Stun Cuffs</td>\n",
       "      <td>[3-A, 5-D, 7-H]</td>\n",
       "      <td>[2-G]</td>\n",
       "      <td>[]</td>\n",
       "      <td>[3-A, 5-D, 7-H, 2-G]</td>\n",
       "    </tr>\n",
       "    <tr>\n",
       "      <th>1</th>\n",
       "      <td>Mk 2 Sienar Holo Projector Prototype Salvage</td>\n",
       "      <td>[3-H, 7-A, 9-D]</td>\n",
       "      <td>[4-A, 6-E, 9-F]</td>\n",
       "      <td>[1-C, 2-D, 4-E, 4-F]</td>\n",
       "      <td>[3-H, 7-A, 9-D, 4-A, 6-E, 9-F, 1-C, 2-D, 4-E, ...</td>\n",
       "    </tr>\n",
       "    <tr>\n",
       "      <th>2</th>\n",
       "      <td>Mk 3 BlasTech Weapon Mod</td>\n",
       "      <td>[]</td>\n",
       "      <td>[3-C, 5-G, 7-H, 8-F]</td>\n",
       "      <td>[]</td>\n",
       "      <td>[3-C, 5-G, 7-H, 8-F]</td>\n",
       "    </tr>\n",
       "  </tbody>\n",
       "</table>\n",
       "</div>"
      ],
      "text/plain": [
       "                                      gear_name                         DS  \\\n",
       "0                Mk 4 BioTech Implant Prototype       [2-E, 4-E, 8-H, 9-C]   \n",
       "1            Mk 4 BlasTech Weapon Mod Prototype  [2-H, 5-J, 7-G, 9-A, 9-B]   \n",
       "2             Mk 4 Loronar Power Cell Prototype  [2-C, 5-F, 6-J, 8-B, 9-D]   \n",
       "3                       Mk 5 Fabritech Data Pad                         []   \n",
       "0                        Mk 1 Czerka Stun Cuffs            [3-A, 5-D, 7-H]   \n",
       "1  Mk 2 Sienar Holo Projector Prototype Salvage            [3-H, 7-A, 9-D]   \n",
       "2                      Mk 3 BlasTech Weapon Mod                         []   \n",
       "\n",
       "                          LS                    FL  \\\n",
       "0       [4-H, 6-B, 8-D, 9-D]                    []   \n",
       "1                      [4-E]                    []   \n",
       "2                         []                 [2-A]   \n",
       "3  [5-K, 6-C, 7-B, 8-A, 9-B]                 [1-D]   \n",
       "0                      [2-G]                    []   \n",
       "1            [4-A, 6-E, 9-F]  [1-C, 2-D, 4-E, 4-F]   \n",
       "2       [3-C, 5-G, 7-H, 8-F]                    []   \n",
       "\n",
       "                                                 all  \n",
       "0           [2-E, 4-E, 8-H, 9-C, 4-H, 6-B, 8-D, 9-D]  \n",
       "1                     [2-H, 5-J, 7-G, 9-A, 9-B, 4-E]  \n",
       "2                     [2-C, 5-F, 6-J, 8-B, 9-D, 2-A]  \n",
       "3                     [5-K, 6-C, 7-B, 8-A, 9-B, 1-D]  \n",
       "0                               [3-A, 5-D, 7-H, 2-G]  \n",
       "1  [3-H, 7-A, 9-D, 4-A, 6-E, 9-F, 1-C, 2-D, 4-E, ...  \n",
       "2                               [3-C, 5-G, 7-H, 8-F]  "
      ]
     },
     "execution_count": 215,
     "metadata": {},
     "output_type": "execute_result"
    }
   ],
   "source": [
    "bronz_chrom"
   ]
  },
  {
   "cell_type": "code",
   "execution_count": 219,
   "metadata": {},
   "outputs": [
    {
     "data": {
      "text/plain": [
       "2-D    1\n",
       "1-D    1\n",
       "4-F    1\n",
       "2-A    1\n",
       "1-C    1\n",
       "4-E    1\n",
       "dtype: int64"
      ]
     },
     "execution_count": 219,
     "metadata": {},
     "output_type": "execute_result"
    }
   ],
   "source": [
    "to_1D(bronz_chrom['FL']).value_counts()"
   ]
  },
  {
   "cell_type": "markdown",
   "metadata": {},
   "source": [
    "Pointless... I forgot values in columns are indistinguishable once merged into 'all'. 5h wasted doing pointless transformations."
   ]
  },
  {
   "cell_type": "markdown",
   "metadata": {},
   "source": [
    "30 min break, and I figured out how to do it in a waaaay more pandas way. Waaay easier."
   ]
  },
  {
   "cell_type": "code",
   "execution_count": 262,
   "metadata": {},
   "outputs": [],
   "source": [
    " def gear_to_array(txt_file):\n",
    "    with open(txt_file, 'r+') as f:\n",
    "        out = []\n",
    "        name = ''\n",
    "        for line in f.readlines():\n",
    "            if 'Mk' in line:\n",
    "                name = line[:-1]\n",
    "                continue\n",
    "            line = line.split()\n",
    "            out.extend((name, line[0], line[3]))\n",
    "        return np.reshape(out, (len(out)//3, 3))\n",
    "    #new_out1 = [out[i:i+3] for i in range(0, len(out), 3)]"
   ]
  },
  {
   "cell_type": "code",
   "execution_count": 263,
   "metadata": {},
   "outputs": [],
   "source": [
    "chrom_data = gear_to_array('chrom.txt')"
   ]
  },
  {
   "cell_type": "code",
   "execution_count": 276,
   "metadata": {},
   "outputs": [
    {
     "data": {
      "text/html": [
       "<div>\n",
       "<style scoped>\n",
       "    .dataframe tbody tr th:only-of-type {\n",
       "        vertical-align: middle;\n",
       "    }\n",
       "\n",
       "    .dataframe tbody tr th {\n",
       "        vertical-align: top;\n",
       "    }\n",
       "\n",
       "    .dataframe thead th {\n",
       "        text-align: right;\n",
       "    }\n",
       "</style>\n",
       "<table border=\"1\" class=\"dataframe\">\n",
       "  <thead>\n",
       "    <tr style=\"text-align: right;\">\n",
       "      <th></th>\n",
       "      <th>gear_name</th>\n",
       "      <th>battle_type</th>\n",
       "      <th>battle_location</th>\n",
       "    </tr>\n",
       "  </thead>\n",
       "  <tbody>\n",
       "    <tr>\n",
       "      <th>0</th>\n",
       "      <td>Mk 1 Czerka Stun Cuffs</td>\n",
       "      <td>Dark</td>\n",
       "      <td>3-A</td>\n",
       "    </tr>\n",
       "    <tr>\n",
       "      <th>1</th>\n",
       "      <td>Mk 1 Czerka Stun Cuffs</td>\n",
       "      <td>Dark</td>\n",
       "      <td>5-D</td>\n",
       "    </tr>\n",
       "    <tr>\n",
       "      <th>2</th>\n",
       "      <td>Mk 1 Czerka Stun Cuffs</td>\n",
       "      <td>Dark</td>\n",
       "      <td>7-H</td>\n",
       "    </tr>\n",
       "    <tr>\n",
       "      <th>3</th>\n",
       "      <td>Mk 1 Czerka Stun Cuffs</td>\n",
       "      <td>Light</td>\n",
       "      <td>2-G</td>\n",
       "    </tr>\n",
       "    <tr>\n",
       "      <th>4</th>\n",
       "      <td>Mk 2 Sienar Holo Projector Prototype Salvage</td>\n",
       "      <td>Dark</td>\n",
       "      <td>3-H</td>\n",
       "    </tr>\n",
       "  </tbody>\n",
       "</table>\n",
       "</div>"
      ],
      "text/plain": [
       "                                      gear_name battle_type battle_location\n",
       "0                        Mk 1 Czerka Stun Cuffs        Dark             3-A\n",
       "1                        Mk 1 Czerka Stun Cuffs        Dark             5-D\n",
       "2                        Mk 1 Czerka Stun Cuffs        Dark             7-H\n",
       "3                        Mk 1 Czerka Stun Cuffs       Light             2-G\n",
       "4  Mk 2 Sienar Holo Projector Prototype Salvage        Dark             3-H"
      ]
     },
     "execution_count": 276,
     "metadata": {},
     "output_type": "execute_result"
    }
   ],
   "source": [
    "df_chrom = pd.DataFrame(chrom_data, columns=['gear_name','battle_type', 'battle_location'])\n",
    "df_chrom.head()"
   ]
  },
  {
   "cell_type": "code",
   "execution_count": 265,
   "metadata": {},
   "outputs": [
    {
     "data": {
      "text/plain": [
       "3-H    1\n",
       "9-D    1\n",
       "7-A    1\n",
       "7-H    1\n",
       "3-A    1\n",
       "5-D    1\n",
       "Name: battle_location, dtype: int64"
      ]
     },
     "execution_count": 265,
     "metadata": {},
     "output_type": "execute_result"
    }
   ],
   "source": [
    "df_chrom[df_chrom['battle_type']=='Dark']['battle_location'].value_counts()"
   ]
  },
  {
   "cell_type": "code",
   "execution_count": 267,
   "metadata": {},
   "outputs": [],
   "source": [
    "bronz_data = gear_to_array('bronz.txt')"
   ]
  },
  {
   "cell_type": "code",
   "execution_count": 275,
   "metadata": {
    "scrolled": true
   },
   "outputs": [
    {
     "data": {
      "text/html": [
       "<div>\n",
       "<style scoped>\n",
       "    .dataframe tbody tr th:only-of-type {\n",
       "        vertical-align: middle;\n",
       "    }\n",
       "\n",
       "    .dataframe tbody tr th {\n",
       "        vertical-align: top;\n",
       "    }\n",
       "\n",
       "    .dataframe thead th {\n",
       "        text-align: right;\n",
       "    }\n",
       "</style>\n",
       "<table border=\"1\" class=\"dataframe\">\n",
       "  <thead>\n",
       "    <tr style=\"text-align: right;\">\n",
       "      <th></th>\n",
       "      <th>gear_name</th>\n",
       "      <th>battle_type</th>\n",
       "      <th>battle_location</th>\n",
       "    </tr>\n",
       "  </thead>\n",
       "  <tbody>\n",
       "    <tr>\n",
       "      <th>0</th>\n",
       "      <td>Mk 4 BioTech Implant Prototype</td>\n",
       "      <td>Dark</td>\n",
       "      <td>2-E</td>\n",
       "    </tr>\n",
       "    <tr>\n",
       "      <th>1</th>\n",
       "      <td>Mk 4 BioTech Implant Prototype</td>\n",
       "      <td>Dark</td>\n",
       "      <td>4-E</td>\n",
       "    </tr>\n",
       "    <tr>\n",
       "      <th>2</th>\n",
       "      <td>Mk 4 BioTech Implant Prototype</td>\n",
       "      <td>Dark</td>\n",
       "      <td>8-H</td>\n",
       "    </tr>\n",
       "    <tr>\n",
       "      <th>3</th>\n",
       "      <td>Mk 4 BioTech Implant Prototype</td>\n",
       "      <td>Dark</td>\n",
       "      <td>9-C</td>\n",
       "    </tr>\n",
       "    <tr>\n",
       "      <th>4</th>\n",
       "      <td>Mk 4 BioTech Implant Prototype</td>\n",
       "      <td>Light</td>\n",
       "      <td>4-H</td>\n",
       "    </tr>\n",
       "  </tbody>\n",
       "</table>\n",
       "</div>"
      ],
      "text/plain": [
       "                        gear_name battle_type battle_location\n",
       "0  Mk 4 BioTech Implant Prototype        Dark             2-E\n",
       "1  Mk 4 BioTech Implant Prototype        Dark             4-E\n",
       "2  Mk 4 BioTech Implant Prototype        Dark             8-H\n",
       "3  Mk 4 BioTech Implant Prototype        Dark             9-C\n",
       "4  Mk 4 BioTech Implant Prototype       Light             4-H"
      ]
     },
     "execution_count": 275,
     "metadata": {},
     "output_type": "execute_result"
    }
   ],
   "source": [
    "df_bronz = pd.DataFrame(bronz_data, columns=['gear_name','battle_type', 'battle_location'])\n",
    "df_bronz.head()"
   ]
  },
  {
   "cell_type": "code",
   "execution_count": 274,
   "metadata": {},
   "outputs": [
    {
     "data": {
      "text/html": [
       "<div>\n",
       "<style scoped>\n",
       "    .dataframe tbody tr th:only-of-type {\n",
       "        vertical-align: middle;\n",
       "    }\n",
       "\n",
       "    .dataframe tbody tr th {\n",
       "        vertical-align: top;\n",
       "    }\n",
       "\n",
       "    .dataframe thead th {\n",
       "        text-align: right;\n",
       "    }\n",
       "</style>\n",
       "<table border=\"1\" class=\"dataframe\">\n",
       "  <thead>\n",
       "    <tr style=\"text-align: right;\">\n",
       "      <th></th>\n",
       "      <th>gear_name</th>\n",
       "      <th>battle_type</th>\n",
       "      <th>battle_location</th>\n",
       "    </tr>\n",
       "  </thead>\n",
       "  <tbody>\n",
       "    <tr>\n",
       "      <th>0</th>\n",
       "      <td>Mk 4 BioTech Implant Prototype</td>\n",
       "      <td>Dark</td>\n",
       "      <td>2-E</td>\n",
       "    </tr>\n",
       "    <tr>\n",
       "      <th>1</th>\n",
       "      <td>Mk 4 BioTech Implant Prototype</td>\n",
       "      <td>Dark</td>\n",
       "      <td>4-E</td>\n",
       "    </tr>\n",
       "    <tr>\n",
       "      <th>2</th>\n",
       "      <td>Mk 4 BioTech Implant Prototype</td>\n",
       "      <td>Dark</td>\n",
       "      <td>8-H</td>\n",
       "    </tr>\n",
       "    <tr>\n",
       "      <th>3</th>\n",
       "      <td>Mk 4 BioTech Implant Prototype</td>\n",
       "      <td>Dark</td>\n",
       "      <td>9-C</td>\n",
       "    </tr>\n",
       "    <tr>\n",
       "      <th>4</th>\n",
       "      <td>Mk 4 BioTech Implant Prototype</td>\n",
       "      <td>Light</td>\n",
       "      <td>4-H</td>\n",
       "    </tr>\n",
       "  </tbody>\n",
       "</table>\n",
       "</div>"
      ],
      "text/plain": [
       "                        gear_name battle_type battle_location\n",
       "0  Mk 4 BioTech Implant Prototype        Dark             2-E\n",
       "1  Mk 4 BioTech Implant Prototype        Dark             4-E\n",
       "2  Mk 4 BioTech Implant Prototype        Dark             8-H\n",
       "3  Mk 4 BioTech Implant Prototype        Dark             9-C\n",
       "4  Mk 4 BioTech Implant Prototype       Light             4-H"
      ]
     },
     "execution_count": 274,
     "metadata": {},
     "output_type": "execute_result"
    }
   ],
   "source": [
    "df_bronz_chrom = pd.concat([df_bronz, df_chrom])\n",
    "df_bronz_chrom.head()"
   ]
  },
  {
   "cell_type": "code",
   "execution_count": 273,
   "metadata": {},
   "outputs": [
    {
     "data": {
      "text/plain": [
       "9-D    2\n",
       "8-B    1\n",
       "4-E    1\n",
       "3-A    1\n",
       "9-A    1\n",
       "7-A    1\n",
       "7-G    1\n",
       "5-D    1\n",
       "5-F    1\n",
       "8-H    1\n",
       "7-H    1\n",
       "2-C    1\n",
       "9-C    1\n",
       "3-H    1\n",
       "5-J    1\n",
       "6-J    1\n",
       "9-B    1\n",
       "2-E    1\n",
       "2-H    1\n",
       "Name: battle_location, dtype: int64"
      ]
     },
     "execution_count": 273,
     "metadata": {},
     "output_type": "execute_result"
    }
   ],
   "source": [
    "df_bronz_chrom[df_bronz_chrom['battle_type'] == 'Dark']['battle_location'].value_counts()"
   ]
  },
  {
   "cell_type": "code",
   "execution_count": null,
   "metadata": {},
   "outputs": [],
   "source": []
  }
 ],
 "metadata": {
  "kernelspec": {
   "display_name": "Python 3",
   "language": "python",
   "name": "python3"
  },
  "language_info": {
   "codemirror_mode": {
    "name": "ipython",
    "version": 3
   },
   "file_extension": ".py",
   "mimetype": "text/x-python",
   "name": "python",
   "nbconvert_exporter": "python",
   "pygments_lexer": "ipython3",
   "version": "3.8.5"
  }
 },
 "nbformat": 4,
 "nbformat_minor": 4
}
